{
 "cells": [
  {
   "cell_type": "markdown",
   "id": "ff34372b",
   "metadata": {},
   "source": [
    "# Megatutorial 1: Explorative Datenanalyse\n",
    "\n",
    "In diesem Megatutorial beschäftigen wir uns mit der explorativen Datenanalyse in Python.\n",
    "\n",
    "\n",
    "## Szenario\n",
    "\n",
    "Wir wurden von einer Social-Media-Plattform damit beauftragt, einen Datensatz mit Profildaten auszuwerten. Das Unternehmen hat uns dazu einen Datensatz mit 576 Profilen zusammengestellt. Aus Datenschutzgründen wurden in diesen Profilen alle personenbezogenen Daten entfernt. Dennoch enthalten die Daten eine Menge an Daten, die Rückschluss auf die Art der Profile enthalten. Darunter sind folgende Merkmale:\n",
    "\n",
    "* **`profile_pic`:** Eine Bool'sche Variable, die aussagt, ob bei dem Profil ein Profilbild enthalten war, oder nicht.\n",
    "* **`rel_num_numeric_char_username`:** Die Anzahl der nummerischen Zeichen im Usernamen, in relation zur Gesamtlänge des Usernamen.\n",
    "* **`words_fullname`:** Die Anzahl der Worte im Namensfeld.\n",
    "* **`rel_num_numeric_char_fullnam`:** Die Anzahl der nummerischen Zeichen im Namen, in relation zur Gesamtlänge des Namen.\n",
    "* **`name=username`:** Eine Bool'sche Variable, die aussagt, ob Username und Name übereinstimmen.\n",
    "* **`description_length`:** Die Länge der Bio, die beim betreffenden Profil hinterlegt wurde.\n",
    "* **`has_external_url`:** Eine Bool'sche Variable, die aussagt, ob beim Profil eine externe URL (z.B., zu einer Webseite) hinterlegt wurde.\n",
    "* **`is_private`:** Eine Bool'sche Variable, die aussagt, ob das betreffende Profil als privat markiert wurde.\n",
    "* **`num_posts`:** Die Anzahl der Posts, die von diesem Profil aus gesendet wurden.\n",
    "* **`num_followers`:** Die Anzahl der Follower dieses Profils.\n",
    "* **`num_follows`:** Die Anzahl der Personen, der dieses Profil folgt.\n",
    "* **`is_fake`:** Eine nachträglich eingefügte Target-Variable, die Angibt, ob diese Profil ein Fake-Profil ist, oder nicht.\n",
    "\n",
    "* b = neue Zeile\n",
    "\n",
    "## Aufgaben\n",
    "\n",
    "* Lade die Daten in `pandas`.\n",
    "* Führe eine deskriptive Datenanalyse mit geeigneten, statisches Maßen durch.\n",
    "* Führe eine deskriptive Datenanalyse mit Hilfe von geeigneten Visualisierungen durch."
   ]
  },
  {
   "cell_type": "code",
   "execution_count": null,
   "id": "e7817479",
   "metadata": {},
   "outputs": [],
   "source": []
  },
  {
   "cell_type": "code",
   "execution_count": 5,
   "id": "0a8352d2",
   "metadata": {},
   "outputs": [
    {
     "name": "stdout",
     "output_type": "stream",
     "text": [
      "hallo welt\n"
     ]
    }
   ],
   "source": [
    "!echo hallo welt\n",
    "\n",
    "# mit echo kann man im terminal etwas printen"
   ]
  },
  {
   "cell_type": "code",
   "execution_count": null,
   "id": "f5598088",
   "metadata": {},
   "outputs": [
    {
     "name": "stdout",
     "output_type": "stream",
     "text": [
      "Requirement already satisfied: pandas in /workspaces/data-science-SS25/.venv/lib/python3.12/site-packages (2.2.3)\n",
      "Requirement already satisfied: numpy>=1.26.0 in /workspaces/data-science-SS25/.venv/lib/python3.12/site-packages (from pandas) (2.2.6)\n",
      "Requirement already satisfied: python-dateutil>=2.8.2 in /workspaces/data-science-SS25/.venv/lib/python3.12/site-packages (from pandas) (2.9.0.post0)\n",
      "Requirement already satisfied: pytz>=2020.1 in /workspaces/data-science-SS25/.venv/lib/python3.12/site-packages (from pandas) (2025.2)\n",
      "Requirement already satisfied: tzdata>=2022.7 in /workspaces/data-science-SS25/.venv/lib/python3.12/site-packages (from pandas) (2025.2)\n",
      "Requirement already satisfied: six>=1.5 in /workspaces/data-science-SS25/.venv/lib/python3.12/site-packages (from python-dateutil>=2.8.2->pandas) (1.17.0)\n"
     ]
    }
   ],
   "source": [
    "!pip install pandas\n",
    "\n",
    "# so wird direkt hier etwas installiert"
   ]
  },
  {
   "cell_type": "code",
   "execution_count": null,
   "id": "11d93d5b",
   "metadata": {},
   "outputs": [
    {
     "name": "stdout",
     "output_type": "stream",
     "text": [
      "Requirement already satisfied: pandas==2.2.3 in /workspaces/data-science-SS25/.venv/lib/python3.12/site-packages (from -r ../requirements.txt (line 1)) (2.2.3)\n",
      "Requirement already satisfied: scikit-learn==1.6.1 in /workspaces/data-science-SS25/.venv/lib/python3.12/site-packages (from -r ../requirements.txt (line 2)) (1.6.1)\n",
      "Requirement already satisfied: scipy==1.15.3 in /workspaces/data-science-SS25/.venv/lib/python3.12/site-packages (from -r ../requirements.txt (line 3)) (1.15.3)\n",
      "Requirement already satisfied: numpy>=1.26.0 in /workspaces/data-science-SS25/.venv/lib/python3.12/site-packages (from pandas==2.2.3->-r ../requirements.txt (line 1)) (2.2.6)\n",
      "Requirement already satisfied: python-dateutil>=2.8.2 in /workspaces/data-science-SS25/.venv/lib/python3.12/site-packages (from pandas==2.2.3->-r ../requirements.txt (line 1)) (2.9.0.post0)\n",
      "Requirement already satisfied: pytz>=2020.1 in /workspaces/data-science-SS25/.venv/lib/python3.12/site-packages (from pandas==2.2.3->-r ../requirements.txt (line 1)) (2025.2)\n",
      "Requirement already satisfied: tzdata>=2022.7 in /workspaces/data-science-SS25/.venv/lib/python3.12/site-packages (from pandas==2.2.3->-r ../requirements.txt (line 1)) (2025.2)\n",
      "Requirement already satisfied: joblib>=1.2.0 in /workspaces/data-science-SS25/.venv/lib/python3.12/site-packages (from scikit-learn==1.6.1->-r ../requirements.txt (line 2)) (1.5.1)\n",
      "Requirement already satisfied: threadpoolctl>=3.1.0 in /workspaces/data-science-SS25/.venv/lib/python3.12/site-packages (from scikit-learn==1.6.1->-r ../requirements.txt (line 2)) (3.6.0)\n",
      "Requirement already satisfied: six>=1.5 in /workspaces/data-science-SS25/.venv/lib/python3.12/site-packages (from python-dateutil>=2.8.2->pandas==2.2.3->-r ../requirements.txt (line 1)) (1.17.0)\n"
     ]
    }
   ],
   "source": [
    "!pip install -r ../requirements.txt\n",
    "\n",
    "# mit dem  .. geht er aus dem Code Ordner hinaus\n",
    "# diesen Codeblock könnte ich löschen, weil es jetzt erledigt ist (ich lasse ihn hier nur zum Verständnis)"
   ]
  },
  {
   "cell_type": "markdown",
   "id": "1713adc0",
   "metadata": {},
   "source": [
    "## Daten in Pandas laden"
   ]
  },
  {
   "cell_type": "code",
   "execution_count": 3,
   "id": "7fb6c5d7",
   "metadata": {},
   "outputs": [],
   "source": [
    "from pandas import read_csv"
   ]
  },
  {
   "cell_type": "code",
   "execution_count": 16,
   "id": "f7507ca2",
   "metadata": {},
   "outputs": [
    {
     "data": {
      "text/html": [
       "<div>\n",
       "<style scoped>\n",
       "    .dataframe tbody tr th:only-of-type {\n",
       "        vertical-align: middle;\n",
       "    }\n",
       "\n",
       "    .dataframe tbody tr th {\n",
       "        vertical-align: top;\n",
       "    }\n",
       "\n",
       "    .dataframe thead th {\n",
       "        text-align: right;\n",
       "    }\n",
       "</style>\n",
       "<table border=\"1\" class=\"dataframe\">\n",
       "  <thead>\n",
       "    <tr style=\"text-align: right;\">\n",
       "      <th></th>\n",
       "      <th>profile_pic</th>\n",
       "      <th>rel_num_numeric_char_username</th>\n",
       "      <th>words_fullname</th>\n",
       "      <th>rel_num_numeric_char_fullname</th>\n",
       "      <th>name=username</th>\n",
       "      <th>description_length</th>\n",
       "      <th>has_external_url</th>\n",
       "      <th>is_private</th>\n",
       "      <th>num_posts</th>\n",
       "      <th>num_followers</th>\n",
       "      <th>num_follows</th>\n",
       "      <th>is_fake</th>\n",
       "    </tr>\n",
       "  </thead>\n",
       "  <tbody>\n",
       "    <tr>\n",
       "      <th>0</th>\n",
       "      <td>yes</td>\n",
       "      <td>0.27</td>\n",
       "      <td>0</td>\n",
       "      <td>0.0</td>\n",
       "      <td>no</td>\n",
       "      <td>53</td>\n",
       "      <td>no</td>\n",
       "      <td>no</td>\n",
       "      <td>32</td>\n",
       "      <td>1000.0</td>\n",
       "      <td>955</td>\n",
       "      <td>no</td>\n",
       "    </tr>\n",
       "    <tr>\n",
       "      <th>1</th>\n",
       "      <td>yes</td>\n",
       "      <td>0.00</td>\n",
       "      <td>2</td>\n",
       "      <td>0.0</td>\n",
       "      <td>no</td>\n",
       "      <td>44</td>\n",
       "      <td>no</td>\n",
       "      <td>no</td>\n",
       "      <td>286</td>\n",
       "      <td>2740.0</td>\n",
       "      <td>533</td>\n",
       "      <td>no</td>\n",
       "    </tr>\n",
       "    <tr>\n",
       "      <th>2</th>\n",
       "      <td>yes</td>\n",
       "      <td>0.10</td>\n",
       "      <td>2</td>\n",
       "      <td>0.0</td>\n",
       "      <td>no</td>\n",
       "      <td>0</td>\n",
       "      <td>no</td>\n",
       "      <td>yes</td>\n",
       "      <td>13</td>\n",
       "      <td>159.0</td>\n",
       "      <td>98</td>\n",
       "      <td>no</td>\n",
       "    </tr>\n",
       "    <tr>\n",
       "      <th>3</th>\n",
       "      <td>yes</td>\n",
       "      <td>0.00</td>\n",
       "      <td>1</td>\n",
       "      <td>0.0</td>\n",
       "      <td>no</td>\n",
       "      <td>82</td>\n",
       "      <td>no</td>\n",
       "      <td>no</td>\n",
       "      <td>679</td>\n",
       "      <td>414.0</td>\n",
       "      <td>651</td>\n",
       "      <td>no</td>\n",
       "    </tr>\n",
       "    <tr>\n",
       "      <th>4</th>\n",
       "      <td>yes</td>\n",
       "      <td>0.00</td>\n",
       "      <td>2</td>\n",
       "      <td>0.0</td>\n",
       "      <td>no</td>\n",
       "      <td>0</td>\n",
       "      <td>no</td>\n",
       "      <td>yes</td>\n",
       "      <td>6</td>\n",
       "      <td>151.0</td>\n",
       "      <td>126</td>\n",
       "      <td>no</td>\n",
       "    </tr>\n",
       "  </tbody>\n",
       "</table>\n",
       "</div>"
      ],
      "text/plain": [
       "  profile_pic  rel_num_numeric_char_username  words_fullname  \\\n",
       "0         yes                           0.27               0   \n",
       "1         yes                           0.00               2   \n",
       "2         yes                           0.10               2   \n",
       "3         yes                           0.00               1   \n",
       "4         yes                           0.00               2   \n",
       "\n",
       "   rel_num_numeric_char_fullname name=username  description_length  \\\n",
       "0                            0.0            no                  53   \n",
       "1                            0.0            no                  44   \n",
       "2                            0.0            no                   0   \n",
       "3                            0.0            no                  82   \n",
       "4                            0.0            no                   0   \n",
       "\n",
       "  has_external_url is_private  num_posts  num_followers  num_follows is_fake  \n",
       "0               no         no         32         1000.0          955      no  \n",
       "1               no         no        286         2740.0          533      no  \n",
       "2               no        yes         13          159.0           98      no  \n",
       "3               no         no        679          414.0          651      no  \n",
       "4               no        yes          6          151.0          126      no  "
      ]
     },
     "execution_count": 16,
     "metadata": {},
     "output_type": "execute_result"
    }
   ],
   "source": [
    "data = read_csv (\n",
    "    \"../data/fake_profiles.csv\",\n",
    "    sep=\",\",\n",
    "    decimal=\".\",\n",
    "    skiprows=None, # Beispiel: skiprows=[0, 1, 10] diese Zeilen sollen geskippt werden\n",
    "    usecols=range(1, 13) # diese Spalten wollen wir verwenden\n",
    "    )\n",
    "\n",
    "data.head(5)\n",
    "# das heißt nur die ersten 5 Zeilen werden gezeigt"
   ]
  },
  {
   "cell_type": "code",
   "execution_count": null,
   "id": "98403402",
   "metadata": {},
   "outputs": [],
   "source": []
  }
 ],
 "metadata": {
  "kernelspec": {
   "display_name": ".venv",
   "language": "python",
   "name": "python3"
  },
  "language_info": {
   "codemirror_mode": {
    "name": "ipython",
    "version": 3
   },
   "file_extension": ".py",
   "mimetype": "text/x-python",
   "name": "python",
   "nbconvert_exporter": "python",
   "pygments_lexer": "ipython3",
   "version": "3.12.1"
  }
 },
 "nbformat": 4,
 "nbformat_minor": 5
}
