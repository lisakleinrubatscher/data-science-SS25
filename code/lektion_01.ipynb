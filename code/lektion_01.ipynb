{
 "cells": [
  {
   "cell_type": "code",
   "execution_count": 1,
   "id": "086054b7",
   "metadata": {},
   "outputs": [],
   "source": [
    "from pandas import read_csv\n",
    "\n",
    "##read_csv ist eine Funktion (erkennt man weil alles klein ist)"
   ]
  },
  {
   "cell_type": "code",
   "execution_count": 5,
   "id": "e79ec108",
   "metadata": {},
   "outputs": [],
   "source": [
    "data = read_csv(\"../data/bikesharing.csv\")\n",
    "\n",
    "## das .. vorne macht man, weil aus dem aktuellen Ordner raus zurück zu Data-Science und rein in data orner"
   ]
  },
  {
   "cell_type": "code",
   "execution_count": 7,
   "id": "5f0f1069",
   "metadata": {},
   "outputs": [
    {
     "data": {
      "text/plain": [
       "pandas.core.frame.DataFrame"
      ]
     },
     "execution_count": 7,
     "metadata": {},
     "output_type": "execute_result"
    }
   ],
   "source": [
    "type(data)\n",
    "\n",
    "## data frame ist eine Klasse"
   ]
  },
  {
   "cell_type": "code",
   "execution_count": null,
   "id": "e477bbb5",
   "metadata": {},
   "outputs": [],
   "source": []
  }
 ],
 "metadata": {
  "kernelspec": {
   "display_name": ".venv",
   "language": "python",
   "name": "python3"
  },
  "language_info": {
   "codemirror_mode": {
    "name": "ipython",
    "version": 3
   },
   "file_extension": ".py",
   "mimetype": "text/x-python",
   "name": "python",
   "nbconvert_exporter": "python",
   "pygments_lexer": "ipython3",
   "version": "3.12.1"
  }
 },
 "nbformat": 4,
 "nbformat_minor": 5
}
