{
 "cells": [
  {
   "cell_type": "markdown",
   "id": "de975b85",
   "metadata": {},
   "source": [
    "## Megatutorial 2: Clustering"
   ]
  },
  {
   "cell_type": "code",
   "execution_count": 3,
   "id": "255e95c1",
   "metadata": {},
   "outputs": [],
   "source": [
    "from pandas import read_csv"
   ]
  },
  {
   "cell_type": "code",
   "execution_count": 4,
   "id": "11272544",
   "metadata": {},
   "outputs": [],
   "source": [
    "data = read_csv(\"../data/fake_profiles.csv\")"
   ]
  },
  {
   "cell_type": "code",
   "execution_count": 5,
   "id": "36d2b911",
   "metadata": {},
   "outputs": [
    {
     "data": {
      "text/html": [
       "<div>\n",
       "<style scoped>\n",
       "    .dataframe tbody tr th:only-of-type {\n",
       "        vertical-align: middle;\n",
       "    }\n",
       "\n",
       "    .dataframe tbody tr th {\n",
       "        vertical-align: top;\n",
       "    }\n",
       "\n",
       "    .dataframe thead th {\n",
       "        text-align: right;\n",
       "    }\n",
       "</style>\n",
       "<table border=\"1\" class=\"dataframe\">\n",
       "  <thead>\n",
       "    <tr style=\"text-align: right;\">\n",
       "      <th></th>\n",
       "      <th>Unnamed: 0</th>\n",
       "      <th>profile_pic</th>\n",
       "      <th>rel_num_numeric_char_username</th>\n",
       "      <th>words_fullname</th>\n",
       "      <th>rel_num_numeric_char_fullname</th>\n",
       "      <th>name=username</th>\n",
       "      <th>description_length</th>\n",
       "      <th>has_external_url</th>\n",
       "      <th>is_private</th>\n",
       "      <th>num_posts</th>\n",
       "      <th>num_followers</th>\n",
       "      <th>num_follows</th>\n",
       "      <th>is_fake</th>\n",
       "    </tr>\n",
       "  </thead>\n",
       "  <tbody>\n",
       "    <tr>\n",
       "      <th>0</th>\n",
       "      <td>0</td>\n",
       "      <td>yes</td>\n",
       "      <td>0.27</td>\n",
       "      <td>0</td>\n",
       "      <td>0.0</td>\n",
       "      <td>no</td>\n",
       "      <td>53</td>\n",
       "      <td>no</td>\n",
       "      <td>no</td>\n",
       "      <td>32</td>\n",
       "      <td>1000.0</td>\n",
       "      <td>955</td>\n",
       "      <td>no</td>\n",
       "    </tr>\n",
       "    <tr>\n",
       "      <th>1</th>\n",
       "      <td>1</td>\n",
       "      <td>yes</td>\n",
       "      <td>0.00</td>\n",
       "      <td>2</td>\n",
       "      <td>0.0</td>\n",
       "      <td>no</td>\n",
       "      <td>44</td>\n",
       "      <td>no</td>\n",
       "      <td>no</td>\n",
       "      <td>286</td>\n",
       "      <td>2740.0</td>\n",
       "      <td>533</td>\n",
       "      <td>no</td>\n",
       "    </tr>\n",
       "  </tbody>\n",
       "</table>\n",
       "</div>"
      ],
      "text/plain": [
       "   Unnamed: 0 profile_pic  rel_num_numeric_char_username  words_fullname  \\\n",
       "0           0         yes                           0.27               0   \n",
       "1           1         yes                           0.00               2   \n",
       "\n",
       "   rel_num_numeric_char_fullname name=username  description_length  \\\n",
       "0                            0.0            no                  53   \n",
       "1                            0.0            no                  44   \n",
       "\n",
       "  has_external_url is_private  num_posts  num_followers  num_follows is_fake  \n",
       "0               no         no         32         1000.0          955      no  \n",
       "1               no         no        286         2740.0          533      no  "
      ]
     },
     "execution_count": 5,
     "metadata": {},
     "output_type": "execute_result"
    }
   ],
   "source": [
    "data.head(2)"
   ]
  },
  {
   "cell_type": "code",
   "execution_count": 6,
   "id": "0b7b9cea",
   "metadata": {},
   "outputs": [
    {
     "name": "stdout",
     "output_type": "stream",
     "text": [
      "<class 'pandas.core.frame.DataFrame'>\n",
      "RangeIndex: 576 entries, 0 to 575\n",
      "Data columns (total 13 columns):\n",
      " #   Column                         Non-Null Count  Dtype  \n",
      "---  ------                         --------------  -----  \n",
      " 0   Unnamed: 0                     576 non-null    int64  \n",
      " 1   profile_pic                    576 non-null    object \n",
      " 2   rel_num_numeric_char_username  576 non-null    float64\n",
      " 3   words_fullname                 576 non-null    int64  \n",
      " 4   rel_num_numeric_char_fullname  576 non-null    float64\n",
      " 5   name=username                  576 non-null    object \n",
      " 6   description_length             576 non-null    int64  \n",
      " 7   has_external_url               576 non-null    object \n",
      " 8   is_private                     576 non-null    object \n",
      " 9   num_posts                      576 non-null    int64  \n",
      " 10  num_followers                  556 non-null    float64\n",
      " 11  num_follows                    576 non-null    int64  \n",
      " 12  is_fake                        576 non-null    object \n",
      "dtypes: float64(3), int64(5), object(5)\n",
      "memory usage: 58.6+ KB\n"
     ]
    }
   ],
   "source": [
    "data.info()"
   ]
  },
  {
   "cell_type": "code",
   "execution_count": 7,
   "id": "d9e631a2",
   "metadata": {},
   "outputs": [],
   "source": [
    "# features nennen wir X (input) und targets y (output)\n",
    "# das X wird groß geschrieben (weil eine Matriz) und das y klein (weil Skalare oder Vektoren)\n",
    "# 80% verwenden wir zum trainieren und 20% zum testen"
   ]
  },
  {
   "cell_type": "code",
   "execution_count": 8,
   "id": "04b2284a",
   "metadata": {},
   "outputs": [
    {
     "data": {
      "text/plain": [
       "Index(['Unnamed: 0', 'profile_pic', 'rel_num_numeric_char_username',\n",
       "       'words_fullname', 'rel_num_numeric_char_fullname', 'name=username',\n",
       "       'description_length', 'has_external_url', 'is_private', 'num_posts',\n",
       "       'num_followers', 'num_follows', 'is_fake'],\n",
       "      dtype='object')"
      ]
     },
     "execution_count": 8,
     "metadata": {},
     "output_type": "execute_result"
    }
   ],
   "source": [
    "data.columns"
   ]
  },
  {
   "cell_type": "code",
   "execution_count": null,
   "id": "de7f74fd",
   "metadata": {},
   "outputs": [],
   "source": []
  }
 ],
 "metadata": {
  "kernelspec": {
   "display_name": ".venv",
   "language": "python",
   "name": "python3"
  },
  "language_info": {
   "codemirror_mode": {
    "name": "ipython",
    "version": 3
   },
   "file_extension": ".py",
   "mimetype": "text/x-python",
   "name": "python",
   "nbconvert_exporter": "python",
   "pygments_lexer": "ipython3",
   "version": "3.12.1"
  }
 },
 "nbformat": 4,
 "nbformat_minor": 5
}
