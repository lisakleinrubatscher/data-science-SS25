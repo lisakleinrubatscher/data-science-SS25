{
 "cells": [
  {
   "cell_type": "markdown",
   "id": "b0af42e2",
   "metadata": {},
   "source": [
    "## Megatutorial 04: Regression"
   ]
  },
  {
   "cell_type": "code",
   "execution_count": 3,
   "id": "35fe911c",
   "metadata": {},
   "outputs": [],
   "source": [
    "from pandas import read_csv\n",
    "\n",
    "from sklearn.impute import SimpleImputer\n",
    "from sklearn.preprocessing import LabelEncoder"
   ]
  },
  {
   "cell_type": "markdown",
   "id": "8930a222",
   "metadata": {},
   "source": [
    "## Daten Laden"
   ]
  },
  {
   "cell_type": "code",
   "execution_count": 4,
   "id": "090f024c",
   "metadata": {},
   "outputs": [],
   "source": [
    "data = read_csv(\"../data/bikesharing.csv\", index_col=0)"
   ]
  },
  {
   "cell_type": "code",
   "execution_count": 5,
   "id": "d3f094b0",
   "metadata": {},
   "outputs": [
    {
     "name": "stdout",
     "output_type": "stream",
     "text": [
      "<class 'pandas.core.frame.DataFrame'>\n",
      "Index: 731 entries, 0 to 730\n",
      "Data columns (total 15 columns):\n",
      " #   Column      Non-Null Count  Dtype  \n",
      "---  ------      --------------  -----  \n",
      " 0   season      731 non-null    object \n",
      " 1   holiday     731 non-null    object \n",
      " 2   weekday     731 non-null    object \n",
      " 3   workingday  731 non-null    object \n",
      " 4   weathersit  731 non-null    object \n",
      " 5   temp        731 non-null    float64\n",
      " 6   atemp       731 non-null    float64\n",
      " 7   hum         731 non-null    float64\n",
      " 8   windspeed   731 non-null    float64\n",
      " 9   casual      731 non-null    int64  \n",
      " 10  registered  731 non-null    int64  \n",
      " 11  cnt         731 non-null    int64  \n",
      " 12  day         731 non-null    int64  \n",
      " 13  month       731 non-null    int64  \n",
      " 14  year        731 non-null    int64  \n",
      "dtypes: float64(4), int64(6), object(5)\n",
      "memory usage: 91.4+ KB\n"
     ]
    }
   ],
   "source": [
    "data.info()\n",
    "\n",
    "# macht er immer als erstes für Überblick über die Daten\n",
    "# inputs dürfen nur numerisch sein"
   ]
  },
  {
   "cell_type": "markdown",
   "id": "c7bf224e",
   "metadata": {},
   "source": [
    "# Data Preprocessing"
   ]
  },
  {
   "cell_type": "markdown",
   "id": "a5b44289",
   "metadata": {},
   "source": [
    "## Imputing"
   ]
  },
  {
   "cell_type": "code",
   "execution_count": 6,
   "id": "45c51ab7",
   "metadata": {},
   "outputs": [],
   "source": [
    "imputer = SimpleImputer(strategy=\"median\")\n",
    "imputer.fit(data[[\"hum\"]])\n",
    "data[\"hum\"] =imputer.transform(data[[\"hum\"]])\n",
    "\n",
    "# ich kann sagen wie der SimpleImputer unsere Spalte auffüllen soll, bspw. mit den fehlenden Werten\n",
    "# 2 eckige Klammern weil es zweidimensional sein muss"
   ]
  },
  {
   "cell_type": "code",
   "execution_count": 7,
   "id": "f5354dc3",
   "metadata": {},
   "outputs": [
    {
     "name": "stdout",
     "output_type": "stream",
     "text": [
      "<class 'pandas.core.frame.DataFrame'>\n",
      "Index: 731 entries, 0 to 730\n",
      "Data columns (total 15 columns):\n",
      " #   Column      Non-Null Count  Dtype  \n",
      "---  ------      --------------  -----  \n",
      " 0   season      731 non-null    object \n",
      " 1   holiday     731 non-null    object \n",
      " 2   weekday     731 non-null    object \n",
      " 3   workingday  731 non-null    object \n",
      " 4   weathersit  731 non-null    object \n",
      " 5   temp        731 non-null    float64\n",
      " 6   atemp       731 non-null    float64\n",
      " 7   hum         731 non-null    float64\n",
      " 8   windspeed   731 non-null    float64\n",
      " 9   casual      731 non-null    int64  \n",
      " 10  registered  731 non-null    int64  \n",
      " 11  cnt         731 non-null    int64  \n",
      " 12  day         731 non-null    int64  \n",
      " 13  month       731 non-null    int64  \n",
      " 14  year        731 non-null    int64  \n",
      "dtypes: float64(4), int64(6), object(5)\n",
      "memory usage: 91.4+ KB\n"
     ]
    }
   ],
   "source": [
    "data.info()\n",
    "\n",
    "# jetzt schaue ich nach und sehe dass alle Werte bei humidity belegt sind"
   ]
  },
  {
   "cell_type": "markdown",
   "id": "4c1f0f03",
   "metadata": {},
   "source": [
    "## Encoding"
   ]
  },
  {
   "cell_type": "code",
   "execution_count": 15,
   "id": "c4553a0c",
   "metadata": {},
   "outputs": [],
   "source": [
    "# Season\n",
    "season_encoder = LabelEncoder()\n",
    "data[\"season\"] = season_encoder.fit_transform(data[\"season\"])\n",
    "\n",
    "# Holiday\n",
    "holiday_encoder = LabelEncoder()\n",
    "data[\"holiday\"] = holiday_encoder.fit_transform(data[\"holiday\"])\n",
    "\n",
    "# weekday\n",
    "weekday_encoder = LabelEncoder()\n",
    "data[\"weekday\"] = weekday_encoder.fit_transform(data[\"weekday\"])\n",
    "\n",
    "# workingday\n",
    "workingday_encoder = LabelEncoder()\n",
    "data[\"workingday\"] = workingday_encoder.fit_transform(data[\"workingday\"])\n",
    "\n",
    "# weathersit\n",
    "weathersit_encoder = LabelEncoder()\n",
    "data[\"weathersit\"] = weathersit_encoder.fit_transform(data[\"weathersit\"])\n"
   ]
  },
  {
   "cell_type": "code",
   "execution_count": 9,
   "id": "4b744b9a",
   "metadata": {},
   "outputs": [
    {
     "name": "stdout",
     "output_type": "stream",
     "text": [
      "<class 'pandas.core.frame.DataFrame'>\n",
      "Index: 731 entries, 0 to 730\n",
      "Data columns (total 5 columns):\n",
      " #   Column      Non-Null Count  Dtype \n",
      "---  ------      --------------  ----- \n",
      " 0   season      731 non-null    object\n",
      " 1   holiday     731 non-null    object\n",
      " 2   weekday     731 non-null    object\n",
      " 3   workingday  731 non-null    object\n",
      " 4   weathersit  731 non-null    object\n",
      "dtypes: object(5)\n",
      "memory usage: 34.3+ KB\n"
     ]
    }
   ],
   "source": [
    "data.select_dtypes(exclude=\"number\").info()"
   ]
  },
  {
   "cell_type": "markdown",
   "id": "8290d8b4",
   "metadata": {},
   "source": [
    "## Feature/Target Split"
   ]
  },
  {
   "cell_type": "code",
   "execution_count": 17,
   "id": "39e007fd",
   "metadata": {},
   "outputs": [],
   "source": [
    "features = [\n",
    "    'season', 'holiday', 'weekday', 'weathersit', 'temp',\n",
    "       'atemp', 'hum', 'windspeed', 'month'\n",
    "       ]\n",
    "\n",
    "target = ['cnt']\n",
    "\n",
    "X = data[features]\n",
    "y = data[target]"
   ]
  },
  {
   "cell_type": "markdown",
   "id": "22cf4026",
   "metadata": {},
   "source": [
    "## Train/Test Split"
   ]
  },
  {
   "cell_type": "code",
   "execution_count": null,
   "id": "c79a0bc0",
   "metadata": {},
   "outputs": [],
   "source": []
  },
  {
   "cell_type": "markdown",
   "id": "8a16460b",
   "metadata": {},
   "source": [
    "# Modeling"
   ]
  },
  {
   "cell_type": "code",
   "execution_count": null,
   "id": "ce311bb2",
   "metadata": {},
   "outputs": [],
   "source": []
  }
 ],
 "metadata": {
  "kernelspec": {
   "display_name": ".venv",
   "language": "python",
   "name": "python3"
  },
  "language_info": {
   "codemirror_mode": {
    "name": "ipython",
    "version": 3
   },
   "file_extension": ".py",
   "mimetype": "text/x-python",
   "name": "python",
   "nbconvert_exporter": "python",
   "pygments_lexer": "ipython3",
   "version": "3.12.1"
  }
 },
 "nbformat": 4,
 "nbformat_minor": 5
}
