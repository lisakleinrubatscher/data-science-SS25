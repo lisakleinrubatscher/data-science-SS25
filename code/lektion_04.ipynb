{
 "cells": [
  {
   "cell_type": "markdown",
   "id": "b0af42e2",
   "metadata": {},
   "source": [
    "## Megatutorial 04: Regression"
   ]
  },
  {
   "cell_type": "code",
   "execution_count": 56,
   "id": "35fe911c",
   "metadata": {},
   "outputs": [],
   "source": [
    "from pandas import read_csv\n",
    "\n",
    "from sklearn.impute import SimpleImputer\n",
    "from sklearn.preprocessing import LabelEncoder\n",
    "from sklearn.model_selection import train_test_split\n",
    "\n",
    "from sklearn.linear_model import LinearRegression\n",
    "from sklearn.tree import DecisionTreeRegressor\n",
    "\n",
    "from sklearn.metrics import r2_score, mean_squared_error, root_mean_squared_error, mean_absolute_error"
   ]
  },
  {
   "cell_type": "markdown",
   "id": "8930a222",
   "metadata": {},
   "source": [
    "## Daten Laden"
   ]
  },
  {
   "cell_type": "code",
   "execution_count": 57,
   "id": "090f024c",
   "metadata": {},
   "outputs": [],
   "source": [
    "data = read_csv(\"../data/bikesharing.csv\", index_col=0)"
   ]
  },
  {
   "cell_type": "code",
   "execution_count": 58,
   "id": "d3f094b0",
   "metadata": {},
   "outputs": [
    {
     "name": "stdout",
     "output_type": "stream",
     "text": [
      "<class 'pandas.core.frame.DataFrame'>\n",
      "Index: 731 entries, 0 to 730\n",
      "Data columns (total 15 columns):\n",
      " #   Column      Non-Null Count  Dtype  \n",
      "---  ------      --------------  -----  \n",
      " 0   season      731 non-null    object \n",
      " 1   holiday     731 non-null    object \n",
      " 2   weekday     731 non-null    object \n",
      " 3   workingday  731 non-null    object \n",
      " 4   weathersit  731 non-null    object \n",
      " 5   temp        731 non-null    float64\n",
      " 6   atemp       731 non-null    float64\n",
      " 7   hum         731 non-null    float64\n",
      " 8   windspeed   731 non-null    float64\n",
      " 9   casual      731 non-null    int64  \n",
      " 10  registered  731 non-null    int64  \n",
      " 11  cnt         731 non-null    int64  \n",
      " 12  day         731 non-null    int64  \n",
      " 13  month       731 non-null    int64  \n",
      " 14  year        731 non-null    int64  \n",
      "dtypes: float64(4), int64(6), object(5)\n",
      "memory usage: 91.4+ KB\n"
     ]
    }
   ],
   "source": [
    "data.info()\n",
    "\n",
    "# macht er immer als erstes für Überblick über die Daten\n",
    "# inputs dürfen nur numerisch sein"
   ]
  },
  {
   "cell_type": "markdown",
   "id": "c7bf224e",
   "metadata": {},
   "source": [
    "# Data Preprocessing"
   ]
  },
  {
   "cell_type": "markdown",
   "id": "a5b44289",
   "metadata": {},
   "source": [
    "## Imputing"
   ]
  },
  {
   "cell_type": "code",
   "execution_count": 59,
   "id": "45c51ab7",
   "metadata": {},
   "outputs": [],
   "source": [
    "imputer = SimpleImputer(strategy=\"median\")\n",
    "imputer.fit(data[[\"hum\"]])\n",
    "data[\"hum\"] =imputer.transform(data[[\"hum\"]])\n",
    "\n",
    "# ich kann sagen wie der SimpleImputer unsere Spalte auffüllen soll, bspw. mit den fehlenden Werten\n",
    "# 2 eckige Klammern weil es zweidimensional sein muss"
   ]
  },
  {
   "cell_type": "code",
   "execution_count": 60,
   "id": "f5354dc3",
   "metadata": {},
   "outputs": [
    {
     "name": "stdout",
     "output_type": "stream",
     "text": [
      "<class 'pandas.core.frame.DataFrame'>\n",
      "Index: 731 entries, 0 to 730\n",
      "Data columns (total 15 columns):\n",
      " #   Column      Non-Null Count  Dtype  \n",
      "---  ------      --------------  -----  \n",
      " 0   season      731 non-null    object \n",
      " 1   holiday     731 non-null    object \n",
      " 2   weekday     731 non-null    object \n",
      " 3   workingday  731 non-null    object \n",
      " 4   weathersit  731 non-null    object \n",
      " 5   temp        731 non-null    float64\n",
      " 6   atemp       731 non-null    float64\n",
      " 7   hum         731 non-null    float64\n",
      " 8   windspeed   731 non-null    float64\n",
      " 9   casual      731 non-null    int64  \n",
      " 10  registered  731 non-null    int64  \n",
      " 11  cnt         731 non-null    int64  \n",
      " 12  day         731 non-null    int64  \n",
      " 13  month       731 non-null    int64  \n",
      " 14  year        731 non-null    int64  \n",
      "dtypes: float64(4), int64(6), object(5)\n",
      "memory usage: 91.4+ KB\n"
     ]
    }
   ],
   "source": [
    "data.info()\n",
    "\n",
    "# jetzt schaue ich nach und sehe dass alle Werte bei humidity belegt sind"
   ]
  },
  {
   "cell_type": "markdown",
   "id": "4c1f0f03",
   "metadata": {},
   "source": [
    "## Encoding"
   ]
  },
  {
   "cell_type": "code",
   "execution_count": 61,
   "id": "c4553a0c",
   "metadata": {},
   "outputs": [],
   "source": [
    "# Season\n",
    "season_encoder = LabelEncoder()\n",
    "data[\"season\"] = season_encoder.fit_transform(data[\"season\"])\n",
    "\n",
    "# Holiday\n",
    "holiday_encoder = LabelEncoder()\n",
    "data[\"holiday\"] = holiday_encoder.fit_transform(data[\"holiday\"])\n",
    "\n",
    "# weekday\n",
    "weekday_encoder = LabelEncoder()\n",
    "data[\"weekday\"] = weekday_encoder.fit_transform(data[\"weekday\"])\n",
    "\n",
    "# workingday\n",
    "workingday_encoder = LabelEncoder()\n",
    "data[\"workingday\"] = workingday_encoder.fit_transform(data[\"workingday\"])\n",
    "\n",
    "# weathersit\n",
    "weathersit_encoder = LabelEncoder()\n",
    "data[\"weathersit\"] = weathersit_encoder.fit_transform(data[\"weathersit\"])\n"
   ]
  },
  {
   "cell_type": "code",
   "execution_count": 62,
   "id": "4b744b9a",
   "metadata": {},
   "outputs": [
    {
     "name": "stdout",
     "output_type": "stream",
     "text": [
      "<class 'pandas.core.frame.DataFrame'>\n",
      "Index: 731 entries, 0 to 730\n",
      "Empty DataFrame\n"
     ]
    }
   ],
   "source": [
    "data.select_dtypes(exclude=\"number\").info()"
   ]
  },
  {
   "cell_type": "markdown",
   "id": "8290d8b4",
   "metadata": {},
   "source": [
    "## Feature/Target Split"
   ]
  },
  {
   "cell_type": "code",
   "execution_count": 63,
   "id": "39e007fd",
   "metadata": {},
   "outputs": [],
   "source": [
    "features = [\n",
    "    'season', 'holiday', 'weekday', 'weathersit', 'temp',\n",
    "       'atemp', 'hum', 'windspeed', 'month'\n",
    "       ]\n",
    "\n",
    "target = ['cnt']\n",
    "\n",
    "X = data[features]\n",
    "y = data[target]"
   ]
  },
  {
   "cell_type": "markdown",
   "id": "22cf4026",
   "metadata": {},
   "source": [
    "## Train/Test Split"
   ]
  },
  {
   "cell_type": "code",
   "execution_count": 64,
   "id": "c79a0bc0",
   "metadata": {},
   "outputs": [],
   "source": [
    "X_train, X_test, y_train, y_test = train_test_split(X, y, test_size=0.4, random_state=875)\n",
    "\n",
    "# hier hat er für die Projektarbeit keine Vorgaben gemacht, können wir selbst entscheiden"
   ]
  },
  {
   "cell_type": "markdown",
   "id": "8a16460b",
   "metadata": {},
   "source": [
    "# Modeling"
   ]
  },
  {
   "cell_type": "markdown",
   "id": "45af3aed",
   "metadata": {},
   "source": [
    "## Lineare Regression"
   ]
  },
  {
   "cell_type": "code",
   "execution_count": 67,
   "id": "ce311bb2",
   "metadata": {},
   "outputs": [
    {
     "name": "stdout",
     "output_type": "stream",
     "text": [
      "R2 0.5391082444141173 , RMSE 1375.3441961742901 , MAE 1163.164204338155\n"
     ]
    }
   ],
   "source": [
    "linear_model = LinearRegression()\n",
    "linear_model.fit(X_train, y_train)\n",
    "\n",
    "predictions = linear_model.predict(X_test)\n",
    "\n",
    "print(\n",
    "    \"R2\", r2_score(y_test, predictions),\n",
    "    \", RMSE\", root_mean_squared_error(y_test, predictions),\n",
    "    \", MAE\", mean_absolute_error(y_test, predictions)\n",
    ")"
   ]
  },
  {
   "cell_type": "markdown",
   "id": "f29fab35",
   "metadata": {},
   "source": [
    "### Decision Tree Regressor"
   ]
  },
  {
   "cell_type": "code",
   "execution_count": 69,
   "id": "971a5de5",
   "metadata": {},
   "outputs": [
    {
     "name": "stdout",
     "output_type": "stream",
     "text": [
      "R2 0.5578119411275271 , RMSE 1347.1483842208493 , MAE 1130.90640950681\n"
     ]
    }
   ],
   "source": [
    "tree_model = DecisionTreeRegressor(max_depth=5)\n",
    "tree_model.fit(X_train, y_train)\n",
    "\n",
    "predictions = tree_model.predict(X_test)\n",
    "\n",
    "print(\n",
    "    \"R2\", r2_score(y_test, predictions),\n",
    "    \", RMSE\", root_mean_squared_error(y_test, predictions),\n",
    "    \", MAE\", mean_absolute_error(y_test, predictions)\n",
    ")"
   ]
  },
  {
   "cell_type": "code",
   "execution_count": null,
   "id": "0a0cc692",
   "metadata": {},
   "outputs": [],
   "source": []
  }
 ],
 "metadata": {
  "kernelspec": {
   "display_name": ".venv",
   "language": "python",
   "name": "python3"
  },
  "language_info": {
   "codemirror_mode": {
    "name": "ipython",
    "version": 3
   },
   "file_extension": ".py",
   "mimetype": "text/x-python",
   "name": "python",
   "nbconvert_exporter": "python",
   "pygments_lexer": "ipython3",
   "version": "3.12.1"
  }
 },
 "nbformat": 4,
 "nbformat_minor": 5
}
