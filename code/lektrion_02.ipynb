{
 "cells": [
  {
   "cell_type": "markdown",
   "id": "ff34372b",
   "metadata": {},
   "source": [
    "# Megatutorial 1: Explorative Datenanalyse\n",
    "\n",
    "In diesem Megatutorial beschäftigen wir uns mit der explorativen Datenanalyse in Python.\n",
    "\n",
    "## Aufgaben\n",
    "\n",
    "* Lade die Daten in `pandas`.\n",
    "* Führe eine deskriptive Datenanalyse mit geeigneten, statisches Maßen durch.\n",
    "* Führe eine deskriptive Datenanalyse mit Hilfe von geeigneten Visualisierungen durch."
   ]
  },
  {
   "cell_type": "code",
   "execution_count": null,
   "id": "e7817479",
   "metadata": {},
   "outputs": [],
   "source": []
  },
  {
   "cell_type": "code",
   "execution_count": null,
   "id": "f5598088",
   "metadata": {},
   "outputs": [],
   "source": []
  }
 ],
 "metadata": {
  "kernelspec": {
   "display_name": ".venv",
   "language": "python",
   "name": "python3"
  },
  "language_info": {
   "codemirror_mode": {
    "name": "ipython",
    "version": 3
   },
   "file_extension": ".py",
   "mimetype": "text/x-python",
   "name": "python",
   "nbconvert_exporter": "python",
   "pygments_lexer": "ipython3",
   "version": "3.12.1"
  }
 },
 "nbformat": 4,
 "nbformat_minor": 5
}
